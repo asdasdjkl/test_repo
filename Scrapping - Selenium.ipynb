{
 "cells": [
  {
   "cell_type": "code",
   "execution_count": 8,
   "id": "377d9628",
   "metadata": {},
   "outputs": [],
   "source": [
    "import pandas as pd\n",
    "import numpy as np"
   ]
  },
  {
   "cell_type": "code",
   "execution_count": 9,
   "id": "81fe099d",
   "metadata": {},
   "outputs": [],
   "source": [
    "from selenium import webdriver\n",
    "from selenium.webdriver.chrome.service import Service\n",
    "from selenium.webdriver.common.by import By\n",
    "from selenium.webdriver.common.keys import Keys\n",
    "from selenium.webdriver.support.ui import WebDriverWait\n",
    "from selenium.webdriver.support import expected_conditions as EC"
   ]
  },
  {
   "cell_type": "code",
   "execution_count": 10,
   "id": "fe251a7a",
   "metadata": {},
   "outputs": [],
   "source": [
    "import os\n",
    "import wget"
   ]
  },
  {
   "cell_type": "code",
   "execution_count": 11,
   "id": "e224d3a7",
   "metadata": {},
   "outputs": [],
   "source": [
    "# mac os path\n",
    "macPath = '/Volumes/GoogleDrive-101567118655106511033/My Drive/Learning/Scrapping/Web Drivers/chromedriver'\n",
    "winPath = 'H:/My Drive/Learning/Scrapping/Web Drivers/chromedriver_win32/chromedriver.exe'\n"
   ]
  },
  {
   "cell_type": "code",
   "execution_count": 12,
   "id": "4e6bd282",
   "metadata": {},
   "outputs": [
    {
     "name": "stderr",
     "output_type": "stream",
     "text": [
      "<ipython-input-12-7d9daffae49b>:1: DeprecationWarning: executable_path has been deprecated, please pass in a Service object\n",
      "  driver = webdriver.Chrome(winPath)\n"
     ]
    }
   ],
   "source": [
    "driver = webdriver.Chrome(winPath)\n",
    "driver.get('https://www.instagram.com/')"
   ]
  },
  {
   "cell_type": "code",
   "execution_count": null,
   "id": "8ece1ce9",
   "metadata": {},
   "outputs": [],
   "source": []
  },
  {
   "cell_type": "code",
   "execution_count": 13,
   "id": "03837fa2",
   "metadata": {},
   "outputs": [],
   "source": [
    "username = WebDriverWait(driver, 10).until(EC.element_to_be_clickable((By.CSS_SELECTOR, \"input[name='username']\")))\n",
    "password = WebDriverWait(driver, 10).until(EC.element_to_be_clickable((By.CSS_SELECTOR, \"input[name='password']\")))\n",
    "username.clear()\n",
    "password.clear()"
   ]
  },
  {
   "cell_type": "code",
   "execution_count": null,
   "id": "chronic-speaker",
   "metadata": {},
   "outputs": [],
   "source": []
  },
  {
   "cell_type": "code",
   "execution_count": 14,
   "id": "ddd88f0b",
   "metadata": {},
   "outputs": [],
   "source": [
    "# fill log-in details and log in \n",
    "username.send_keys('skm.mk')\n",
    "password.send_keys('MUKtt64090188')"
   ]
  },
  {
   "cell_type": "code",
   "execution_count": 15,
   "id": "first-voice",
   "metadata": {},
   "outputs": [],
   "source": [
    "login = password = WebDriverWait(driver, 10).until(EC.element_to_be_clickable((By.CSS_SELECTOR, \"button[type = 'submit']\"))).click()"
   ]
  },
  {
   "cell_type": "code",
   "execution_count": 16,
   "id": "51edf037",
   "metadata": {},
   "outputs": [],
   "source": [
    "# clear the pop-ups\n",
    "not_now = WebDriverWait(driver, 10).until(EC.element_to_be_clickable((By.XPATH, \"//button[contains(text(), 'Not now')]\"))).click() \n",
    "not_now2 = WebDriverWait(driver, 10).until(EC.element_to_be_clickable((By.XPATH, \"//button[contains(text(), 'Not Now')]\"))).click() "
   ]
  },
  {
   "cell_type": "code",
   "execution_count": 41,
   "id": "008df2cd",
   "metadata": {},
   "outputs": [],
   "source": [
    "# fill the search box\n",
    "searchbox = WebDriverWait(driver, 10).until(EC.element_to_be_clickable((By.XPATH, \"//input[@placeholder='Search']\")))\n",
    "searchbox.clear()\n",
    "keyword = '#hapebeast'\n",
    "searchbox.send_keys(keyword)"
   ]
  },
  {
   "cell_type": "code",
   "execution_count": 43,
   "id": "3af3800b",
   "metadata": {},
   "outputs": [],
   "source": [
    "# click enter\n",
    "searchbox.send_keys(Keys.ENTER)"
   ]
  },
  {
   "cell_type": "code",
   "execution_count": 44,
   "id": "7bcd6199",
   "metadata": {},
   "outputs": [
    {
     "name": "stderr",
     "output_type": "stream",
     "text": [
      "<ipython-input-44-84f68e852e54>:3: DeprecationWarning: find_elements_by_* commands are deprecated. Please use find_elements() instead\n",
      "  images = driver.find_elements_by_tag_name('img')\n"
     ]
    },
    {
     "data": {
      "text/plain": [
       "['https://instagram.fyvr4-1.fna.fbcdn.net/v/t51.2885-15/e35/266455187_624963651978812_1241091445110929794_n.jpg?_nc_ht=instagram.fyvr4-1.fna.fbcdn.net&_nc_cat=108&_nc_ohc=L0bT5wxYVvkAX94ZJrc&edm=ABZsPhsBAAAA&ccb=7-4&ig_cache_key=MjcyNjY3MDc2NzQ1NTY2ODIxOQ%3D%3D.2-ccb7-4&oh=00_AT-T4lR-xrw5yBS0CZpW7SHog6p34azJggZgL21Gtkwesg&oe=61F85C39&_nc_sid=4efc9f',\n",
       " 'https://instagram.fyvr4-1.fna.fbcdn.net/v/t51.2885-15/e35/266455187_624963651978812_1241091445110929794_n.jpg?_nc_ht=instagram.fyvr4-1.fna.fbcdn.net&_nc_cat=108&_nc_ohc=L0bT5wxYVvkAX94ZJrc&edm=ABZsPhsBAAAA&ccb=7-4&ig_cache_key=MjcyNjY3MDc2NzQ1NTY2ODIxOQ%3D%3D.2-ccb7-4&oh=00_AT-T4lR-xrw5yBS0CZpW7SHog6p34azJggZgL21Gtkwesg&oe=61F85C39&_nc_sid=4efc9f',\n",
       " 'https://instagram.fyvr4-1.fna.fbcdn.net/v/t51.2885-15/e35/271991584_605329753907689_7807421713324572200_n.jpg?_nc_ht=instagram.fyvr4-1.fna.fbcdn.net&_nc_cat=101&_nc_ohc=1szATdTw8hMAX9WmxLg&edm=ABZsPhsBAAAA&ccb=7-4&ig_cache_key=Mjc1MjcwMTcxMTQxODI4MTQzNw%3D%3D.2-ccb7-4&oh=00_AT_gqCVHoAs7bxY1ZXIw23isu8ibWWzT8a-l4EnMzbMwpg&oe=61F951CA&_nc_sid=4efc9f',\n",
       " 'https://instagram.fyvr4-1.fna.fbcdn.net/v/t51.2885-15/e35/270288356_243984554477817_9213768951496828302_n.jpg?_nc_ht=instagram.fyvr4-1.fna.fbcdn.net&_nc_cat=109&_nc_ohc=RoWKhbSF-eUAX9QK_uH&edm=ABZsPhsBAAAA&ccb=7-4&ig_cache_key=Mjc0MDIwODkwMTI5NTYwMTM0MQ%3D%3D.2-ccb7-4&oh=00_AT9mtrPqJhnvWI83xpjf_DjTA_xCzhgXLbCwTB28LCw-WA&oe=61F8362A&_nc_sid=4efc9f',\n",
       " 'https://instagram.fyvr4-1.fna.fbcdn.net/v/t51.2885-15/e35/260673458_944680709508879_112302141339983487_n.jpg?_nc_ht=instagram.fyvr4-1.fna.fbcdn.net&_nc_cat=103&_nc_ohc=rMdB1U1zDAoAX_0mopm&tn=DTsG1iJWOTEFyYxr&edm=ABZsPhsBAAAA&ccb=7-4&ig_cache_key=MjcxNTcyMDg2MDUwNzE3NTM5OA%3D%3D.2-ccb7-4&oh=00_AT_WVWjc-h0GSA8Whdh42RvDDLL0-M8Y8IaBIAPxhXIWSA&oe=61F8B69D&_nc_sid=4efc9f',\n",
       " 'https://instagram.fyvr4-1.fna.fbcdn.net/v/t51.2885-15/e35/272540244_477676227045086_6776117226461746531_n.jpg?_nc_ht=instagram.fyvr4-1.fna.fbcdn.net&_nc_cat=102&_nc_ohc=U4jUtNBUv4EAX_4STQV&tn=DTsG1iJWOTEFyYxr&edm=ABZsPhsBAAAA&ccb=7-4&ig_cache_key=Mjc1OTE0MjUzODMwOTgzMDI4Nw%3D%3D.2-ccb7-4&oh=00_AT9jKocgbsCgZQIsBMqMl2766QkPtd8h7Ug9lQSdmV5wVg&oe=61F8CE42&_nc_sid=4efc9f',\n",
       " 'https://instagram.fyvr4-1.fna.fbcdn.net/v/t51.2885-15/e35/272742287_1125277751550608_448946321777646389_n.jpg?_nc_ht=instagram.fyvr4-1.fna.fbcdn.net&_nc_cat=108&_nc_ohc=YNCf5o31EsgAX8TEqZI&edm=ABZsPhsBAAAA&ccb=7-4&ig_cache_key=Mjc1OTA3ODc0MzY1MjExOTM1MA%3D%3D.2-ccb7-4&oh=00_AT-jyKUEae2xjhU6-sGCVYwMB8pjshKP25kSrYrIpvDWGQ&oe=61F885C5&_nc_sid=4efc9f',\n",
       " 'https://instagram.fyvr4-1.fna.fbcdn.net/v/t51.2885-15/e35/247470698_411129290515471_8784027640814499304_n.jpg?_nc_ht=instagram.fyvr4-1.fna.fbcdn.net&_nc_cat=107&_nc_ohc=A1JscDZVCcQAX_PDKYb&edm=ABZsPhsBAAAA&ccb=7-4&ig_cache_key=MjY4ODYzMjQzMzEzNDc5NDAzNA%3D%3D.2-ccb7-4&oh=00_AT_dJ5ZkhGqcXOKN0M5QRf5T5xTfW7x6ogs1Jq6rhH_fRg&oe=61F8F642&_nc_sid=4efc9f',\n",
       " 'https://instagram.fyvr4-1.fna.fbcdn.net/v/t51.2885-15/fr/e15/s1080x1080/270126168_617427176213530_5798574840808256796_n.jpg?_nc_ht=instagram.fyvr4-1.fna.fbcdn.net&_nc_cat=110&_nc_ohc=sQQ20GanNRwAX8drAaD&edm=ABZsPhsBAAAA&ccb=7-4&ig_cache_key=MjczOTA2MDE3ODMwMDUxNDQyNw%3D%3D.2-ccb7-4&oh=00_AT_2IDGZGwvdH2lNQYcQSpZrkgLJj2vcx92gEwpzeGs8Fg&oe=61F8CEDE&_nc_sid=4efc9f',\n",
       " 'https://instagram.fyvr4-1.fna.fbcdn.net/v/t51.2885-15/fr/e15/s1080x1080/259141987_3061381774178439_6584151645900389029_n.jpg?_nc_ht=instagram.fyvr4-1.fna.fbcdn.net&_nc_cat=103&_nc_ohc=RbU0qMdu9mAAX-6Evat&edm=ABZsPhsBAAAA&ccb=7-4&ig_cache_key=MjcxMzQxNjYzNzc5OTc1NjUzNA%3D%3D.2-ccb7-4&oh=00_AT_9MuiYyhoM796yp6Ogr4KHgW6rx8CApqF12oKwLv1fbA&oe=61F97B6C&_nc_sid=4efc9f',\n",
       " 'https://instagram.fyvr4-1.fna.fbcdn.net/v/t51.2885-15/e35/272700454_632372301214565_3064207171937467458_n.jpg?_nc_ht=instagram.fyvr4-1.fna.fbcdn.net&_nc_cat=105&_nc_ohc=1kKBc1g4MqwAX_uWR8r&edm=ABZsPhsBAAAA&ccb=7-4&ig_cache_key=Mjc2MDA3NTMxNDcxMTMzMDIyMg%3D%3D.2-ccb7-4&oh=00_AT-IfAo3wZfHlq5BsqqvlCM069iuU4q97IJITOadafc-xQ&oe=61F982D1&_nc_sid=4efc9f',\n",
       " 'https://instagram.fyvr4-1.fna.fbcdn.net/v/t51.2885-15/e35/272700453_467822834971295_4660615602625321448_n.jpg?_nc_ht=instagram.fyvr4-1.fna.fbcdn.net&_nc_cat=111&_nc_ohc=640Iveeh_Z8AX-_FLKi&edm=ABZsPhsBAAAA&ccb=7-4&ig_cache_key=Mjc2MDA3MzMwNjM1MjY2MDkyMA%3D%3D.2-ccb7-4&oh=00_AT8U80hLiyP_yZ_9f8igCgWQpKPASTmo8IeZQuCj2Pj5RQ&oe=61F88CB2&_nc_sid=4efc9f',\n",
       " 'https://instagram.fyvr4-1.fna.fbcdn.net/v/t51.2885-15/e35/272672053_528287488350545_8189849488470490408_n.jpg?_nc_ht=instagram.fyvr4-1.fna.fbcdn.net&_nc_cat=105&_nc_ohc=mUbbRVTZBQ0AX-jmBjD&edm=ABZsPhsBAAAA&ccb=7-4&ig_cache_key=Mjc2MDA3MTEyNTg1OTk5NDM0OQ%3D%3D.2-ccb7-4&oh=00_AT-i_jCIFnT9PFWVwUUq7_O4MtO4VlB-eGHpEm-hqno-eA&oe=61F9888A&_nc_sid=4efc9f',\n",
       " 'https://instagram.fyvr4-1.fna.fbcdn.net/v/t51.2885-15/e35/272756113_606824070614358_7938560355897603390_n.jpg?_nc_ht=instagram.fyvr4-1.fna.fbcdn.net&_nc_cat=106&_nc_ohc=V1y38TsBcSYAX8kCHSl&edm=ABZsPhsBAAAA&ccb=7-4&ig_cache_key=Mjc2MDA1NTQ3NzMxNDA0OTQ2OQ%3D%3D.2-ccb7-4&oh=00_AT_vLiv-earo7D22gr5WIVyOS75tasurZ07cOiAElSXd7A&oe=61F8C0FB&_nc_sid=4efc9f',\n",
       " 'https://instagram.fyvr4-1.fna.fbcdn.net/v/t51.2885-15/e35/272791372_1289016491600461_991586411918299811_n.jpg?_nc_ht=instagram.fyvr4-1.fna.fbcdn.net&_nc_cat=101&_nc_ohc=UsUOK1hMNMAAX-IJVeD&tn=DTsG1iJWOTEFyYxr&edm=ABZsPhsBAAAA&ccb=7-4&ig_cache_key=Mjc1OTg5NjQ5MzE3NzY1MzY3OA%3D%3D.2-ccb7-4&oh=00_AT-TkGcqXI71sfiZ9ruKmARc07umAEJvo3QUU-hbMisaLQ&oe=61F83C39&_nc_sid=4efc9f',\n",
       " 'https://instagram.fyvr4-1.fna.fbcdn.net/v/t51.2885-15/e35/272838671_116356764111550_2626376526688838280_n.jpg?_nc_ht=instagram.fyvr4-1.fna.fbcdn.net&_nc_cat=110&_nc_ohc=Q0jHRqFHd2QAX_kAYtJ&edm=ABZsPhsBAAAA&ccb=7-4&ig_cache_key=Mjc1OTg5NjMyODQzMzU4MTEwNg%3D%3D.2-ccb7-4&oh=00_AT8ivebVuIubJwrKCVo3rVpNEEgKa3_uc19atLVCypnm1A&oe=61F8F9B1&_nc_sid=4efc9f',\n",
       " 'https://instagram.fyvr4-1.fna.fbcdn.net/v/t51.2885-15/e35/272719915_1012205389717352_1207532754856516818_n.jpg?_nc_ht=instagram.fyvr4-1.fna.fbcdn.net&_nc_cat=108&_nc_ohc=0WScj2hN55EAX8v6Ng-&edm=ABZsPhsBAAAA&ccb=7-4&ig_cache_key=Mjc1OTg5NjA5NzUxMjE1NzY2OQ%3D%3D.2-ccb7-4&oh=00_AT8z3obOOPy_ZSfsUkYv0Uc1i2LZ1D9TQ3cmFNcGxsl9OQ&oe=61F84FEA&_nc_sid=4efc9f',\n",
       " 'https://instagram.fyvr4-1.fna.fbcdn.net/v/t51.2885-15/e35/272672464_434518128418630_8993499578685736636_n.jpg?_nc_ht=instagram.fyvr4-1.fna.fbcdn.net&_nc_cat=110&_nc_ohc=OmgFX5aRHDEAX-_ZLhf&edm=ABZsPhsBAAAA&ccb=7-4&ig_cache_key=Mjc1OTg4MTQ1OTkzNjMxNDgzOQ%3D%3D.2-ccb7-4&oh=00_AT-peMj7qATVbPeyF37aq9Q2zEVuY-oCJ8QHkUiIGANANQ&oe=61F95EA4&_nc_sid=4efc9f',\n",
       " 'https://instagram.fyvr4-1.fna.fbcdn.net/v/t51.2885-15/e35/272663816_728049428167884_4573283593844444331_n.jpg?_nc_ht=instagram.fyvr4-1.fna.fbcdn.net&_nc_cat=100&_nc_ohc=KVNu81d8JUgAX_qtnAR&edm=ABZsPhsBAAAA&ccb=7-4&ig_cache_key=Mjc1OTg0MDc2NjE2ODg1NzU0NA%3D%3D.2-ccb7-4&oh=00_AT8wuHFuQtyBLC2lBkTA5HsMmO2DV2hmQfSyY-L85KvZ4w&oe=61F853E8&_nc_sid=4efc9f',\n",
       " 'https://instagram.fyvr4-1.fna.fbcdn.net/v/t51.2885-15/e35/272616630_539223220401330_6611057094747071725_n.jpg?_nc_ht=instagram.fyvr4-1.fna.fbcdn.net&_nc_cat=106&_nc_ohc=ibfT57zXzDgAX-lie58&edm=ABZsPhsBAAAA&ccb=7-4&ig_cache_key=Mjc1OTgxMTU0NTE2Mzg5MjA2NQ%3D%3D.2-ccb7-4&oh=00_AT8q4rcr3AdDzwkzJPxu2pwKpnG9enqYqlBjpAO-UziatQ&oe=61F92A44&_nc_sid=4efc9f',\n",
       " 'https://instagram.fyvr4-1.fna.fbcdn.net/v/t51.2885-15/e35/272633477_1255960264926547_3015557616740207909_n.jpg?_nc_ht=instagram.fyvr4-1.fna.fbcdn.net&_nc_cat=107&_nc_ohc=rwgyBZFW1vwAX_9gk7f&edm=ABZsPhsBAAAA&ccb=7-4&ig_cache_key=Mjc1OTc5NTQxMjQwNTY1ODUxOQ%3D%3D.2-ccb7-4&oh=00_AT_V094YfyHFKFWlFhDJf46u224YW0oFcbc2SM-11P4PXQ&oe=61F9D989&_nc_sid=4efc9f',\n",
       " 'https://instagram.fyvr4-1.fna.fbcdn.net/v/t51.2885-15/e35/272636671_1556956344660669_5964803927974153153_n.jpg?_nc_ht=instagram.fyvr4-1.fna.fbcdn.net&_nc_cat=109&_nc_ohc=ZaBPq7vPD1kAX_EMLf7&edm=ABZsPhsBAAAA&ccb=7-4&ig_cache_key=Mjc1OTc5MjUwNzc1ODQyNjg4NA%3D%3D.2-ccb7-4&oh=00_AT_oODBlvlpi7vK9m7L0Xt0GARX-TwzJbOqLq6BcrFX3Rg&oe=61F8709C&_nc_sid=4efc9f',\n",
       " 'https://instagram.fyvr4-1.fna.fbcdn.net/v/t51.2885-15/e35/272707423_241255788059607_8082465384564704622_n.jpg?_nc_ht=instagram.fyvr4-1.fna.fbcdn.net&_nc_cat=103&_nc_ohc=WpKaiX1MyKwAX-3bGpp&edm=ABZsPhsBAAAA&ccb=7-4&ig_cache_key=Mjc1OTc2NDI3MzgxNjM1OTgyOA%3D%3D.2-ccb7-4&oh=00_AT-zYGGf35OFe0LJwodREa3slDzZhnnRvZFbcKxNyLogVA&oe=61F988A6&_nc_sid=4efc9f',\n",
       " 'https://instagram.fyvr4-1.fna.fbcdn.net/v/t51.2885-15/e35/272616245_3038255306434764_2472157271096275544_n.jpg?_nc_ht=instagram.fyvr4-1.fna.fbcdn.net&_nc_cat=100&_nc_ohc=pgxHglWltY0AX_0_Cgy&tn=DTsG1iJWOTEFyYxr&edm=ABZsPhsBAAAA&ccb=7-4&ig_cache_key=Mjc1OTc1NTQwNTY4MzcxNjk2MA%3D%3D.2-ccb7-4&oh=00_AT8u3VUhgmOIMEZNavsFaa4tKjbRUB7ihyf5fGkekvkOCw&oe=61F93DBA&_nc_sid=4efc9f',\n",
       " 'https://instagram.fyvr4-1.fna.fbcdn.net/v/t51.2885-15/e35/272647841_345471393881444_4887659623052726728_n.webp.jpg?_nc_ht=instagram.fyvr4-1.fna.fbcdn.net&_nc_cat=108&_nc_ohc=QzbyeDk4_PkAX9YEKTc&edm=ABZsPhsBAAAA&ccb=7-4&ig_cache_key=Mjc1OTcyODE2NDk0MTkzMDExNw%3D%3D.2-ccb7-4&oh=00_AT9KdrQT1zc1hq-1b6unWwA0Q42EHXurZ8NvEjdD93-FcQ&oe=61F8904A&_nc_sid=4efc9f',\n",
       " 'https://instagram.fyvr4-1.fna.fbcdn.net/v/t51.2885-15/e35/272645455_951546182448561_591569328047662856_n.webp.jpg?_nc_ht=instagram.fyvr4-1.fna.fbcdn.net&_nc_cat=109&_nc_ohc=yXAdTjBp3dsAX_kEH1d&edm=ABZsPhsBAAAA&ccb=7-4&ig_cache_key=Mjc1OTY5NzU1MTA4MTA0OTUzNw%3D%3D.2-ccb7-4&oh=00_AT9hV8s2-kzmTKfhOIo2RCSvO7CcR8kBUsOJ6MgzopX9_Q&oe=61F964FD&_nc_sid=4efc9f',\n",
       " 'https://instagram.fyvr4-1.fna.fbcdn.net/v/t51.2885-15/e35/272675874_1695540834119209_635411449204963210_n.webp.jpg?_nc_ht=instagram.fyvr4-1.fna.fbcdn.net&_nc_cat=101&_nc_ohc=9H8hetF2TW0AX-AyHRQ&edm=ABZsPhsBAAAA&ccb=7-4&ig_cache_key=Mjc1OTY5NzY4NDA5MDcwMjMyNg%3D%3D.2-ccb7-4&oh=00_AT8boZU-K0aKyVsIqzdoQV9-nA-tiRoLnmIj3qKfX3pRPA&oe=61F9479A&_nc_sid=4efc9f',\n",
       " 'https://instagram.fyvr4-1.fna.fbcdn.net/v/t51.2885-15/e35/272612690_3321500397973523_94552780634754720_n.webp.jpg?_nc_ht=instagram.fyvr4-1.fna.fbcdn.net&_nc_cat=111&_nc_ohc=ZJiiunRuMh8AX_8R61p&edm=ABZsPhsBAAAA&ccb=7-4&ig_cache_key=Mjc1OTY5NzM3NjA5NDcwODc4Nw%3D%3D.2-ccb7-4&oh=00_AT9Dw-nWVyuaE-I8SZYgsvPrbz91MyZk-PARosKlxDpxnw&oe=61F8EECB&_nc_sid=4efc9f',\n",
       " 'https://instagram.fyvr4-1.fna.fbcdn.net/v/t51.2885-15/e35/272728721_357948472812368_3913024100387863682_n.jpg?_nc_ht=instagram.fyvr4-1.fna.fbcdn.net&_nc_cat=108&_nc_ohc=4acyRlEMqLQAX-KHkMY&tn=DTsG1iJWOTEFyYxr&edm=ABZsPhsBAAAA&ccb=7-4&ig_cache_key=Mjc1OTY3MTg1NDQzMzI2MzA4Mg%3D%3D.2-ccb7-4&oh=00_AT8MezIMp_380KTwzoDZUvORTitqlf8pmOJiFwnUq0EkJg&oe=61F812C7&_nc_sid=4efc9f',\n",
       " 'https://instagram.fyvr4-1.fna.fbcdn.net/v/t51.2885-15/e35/272673016_101167745785239_6175543979779374193_n.webp.jpg?_nc_ht=instagram.fyvr4-1.fna.fbcdn.net&_nc_cat=103&_nc_ohc=NfHn3r3g3uYAX888xtB&tn=DTsG1iJWOTEFyYxr&edm=ABZsPhsBAAAA&ccb=7-4&ig_cache_key=Mjc1OTYxNTk5OTEyOTIyNTEzMQ%3D%3D.2-ccb7-4&oh=00_AT_7oGJL8OTz22vGX3jiwxREY1lt-YLwjDiTGuBjpkvO0w&oe=61F89EAF&_nc_sid=4efc9f',\n",
       " 'https://instagram.fyvr4-1.fna.fbcdn.net/v/t51.2885-15/e35/272627991_144794861255679_8823879214610785548_n.webp.jpg?_nc_ht=instagram.fyvr4-1.fna.fbcdn.net&_nc_cat=103&_nc_ohc=DagWR3wnspsAX9asNWW&tn=DTsG1iJWOTEFyYxr&edm=ABZsPhsBAAAA&ccb=7-4&ig_cache_key=Mjc1OTUzMjU4MjkwNTg4NDY2NA%3D%3D.2-ccb7-4&oh=00_AT9CMTAZOk3SvaszmIdyGfaITWINl_dpJJwiSYPvOfiPhQ&oe=61F89FD4&_nc_sid=4efc9f',\n",
       " 'https://instagram.fyvr4-1.fna.fbcdn.net/v/t51.2885-15/e35/272671843_946804546195826_153392373949245382_n.jpg?_nc_ht=instagram.fyvr4-1.fna.fbcdn.net&_nc_cat=102&_nc_ohc=ery0hJo4TqkAX_d4eMw&edm=ABZsPhsBAAAA&ccb=7-4&ig_cache_key=Mjc1OTM2NTQwMzM5MTQ2ODQ3OA%3D%3D.2-ccb7-4&oh=00_AT-lkzji1U4dMcn2RvylrXXY8uBJJ--sAbvQfZ77JhoSmw&oe=61F8B2B0&_nc_sid=4efc9f',\n",
       " 'https://instagram.fyvr4-1.fna.fbcdn.net/v/t51.2885-15/e35/272640708_2420112461457494_4478993984171899147_n.jpg?_nc_ht=instagram.fyvr4-1.fna.fbcdn.net&_nc_cat=102&_nc_ohc=yYVwsB0b3VYAX-L3Dno&edm=ABZsPhsBAAAA&ccb=7-4&ig_cache_key=Mjc1OTM1OTI3MzEzOTE1MTUxMA%3D%3D.2-ccb7-4&oh=00_AT_8j4p9EubZow8OyI5qgSm4gbSqzT5NlQoP4T_mlNksBw&oe=61F7EE0B&_nc_sid=4efc9f',\n",
       " 'https://instagram.fyvr4-1.fna.fbcdn.net/v/t51.2885-15/e35/272621070_6936615789742973_1391124310285691634_n.webp.jpg?_nc_ht=instagram.fyvr4-1.fna.fbcdn.net&_nc_cat=105&_nc_ohc=M0RBNv6gQ6UAX9ezQT7&edm=ABZsPhsBAAAA&ccb=7-4&ig_cache_key=Mjc1OTMzNDA5NTg0ODc0NzU2NA%3D%3D.2-ccb7-4&oh=00_AT9e1GWS9sw6AYIter58nheTxlIVXx_n4D1c3yTPcUBY3w&oe=61F9D155&_nc_sid=4efc9f',\n",
       " 'https://www.instagram.com/static/images/web/mobile_nav_type_logo.png/735145cfe0a4.png',\n",
       " 'https://instagram.fyvr4-1.fna.fbcdn.net/v/t51.2885-19/s150x150/87826879_530339371196035_5207972502977904640_n.jpg?_nc_ht=instagram.fyvr4-1.fna.fbcdn.net&_nc_cat=107&_nc_ohc=uXQX_1DAMhQAX_LyIEF&edm=ALlQn9MBAAAA&ccb=7-4&oh=00_AT_2zA1RB-_qQ9FGPtjINs6otD4LBSOhdap7fNvt-x85BQ&oe=61F83F9A&_nc_sid=48a2a6']"
      ]
     },
     "execution_count": 44,
     "metadata": {},
     "output_type": "execute_result"
    }
   ],
   "source": [
    "driver.execute_script(\"window.scrollTo(0,4000);\")\n",
    "\n",
    "images = driver.find_elements_by_tag_name('img')\n",
    "images = [image.get_attribute('src') for image in images]\n",
    "\n",
    "images"
   ]
  },
  {
   "cell_type": "code",
   "execution_count": null,
   "id": "binding-invite",
   "metadata": {},
   "outputs": [],
   "source": []
  },
  {
   "cell_type": "markdown",
   "id": "agreed-blowing",
   "metadata": {},
   "source": [
    "### Save Images to Computer"
   ]
  },
  {
   "cell_type": "code",
   "execution_count": 45,
   "id": "talented-width",
   "metadata": {},
   "outputs": [
    {
     "ename": "FileExistsError",
     "evalue": "[WinError 183] Cannot create a file when that file already exists: 'H:\\\\My Drive\\\\Learning\\\\Scrapping\\\\hapebeasts'",
     "output_type": "error",
     "traceback": [
      "\u001b[1;31m---------------------------------------------------------------------------\u001b[0m",
      "\u001b[1;31mFileExistsError\u001b[0m                           Traceback (most recent call last)",
      "\u001b[1;32m<ipython-input-45-a202c3ab2c1f>\u001b[0m in \u001b[0;36m<module>\u001b[1;34m\u001b[0m\n\u001b[0;32m      2\u001b[0m \u001b[0mpath\u001b[0m \u001b[1;33m=\u001b[0m \u001b[0mos\u001b[0m\u001b[1;33m.\u001b[0m\u001b[0mpath\u001b[0m\u001b[1;33m.\u001b[0m\u001b[0mjoin\u001b[0m\u001b[1;33m(\u001b[0m\u001b[0mpath\u001b[0m\u001b[1;33m,\u001b[0m \u001b[0mkeyword\u001b[0m\u001b[1;33m[\u001b[0m\u001b[1;36m1\u001b[0m\u001b[1;33m:\u001b[0m\u001b[1;33m]\u001b[0m \u001b[1;33m+\u001b[0m \u001b[1;34m's'\u001b[0m\u001b[1;33m)\u001b[0m\u001b[1;33m\u001b[0m\u001b[1;33m\u001b[0m\u001b[0m\n\u001b[0;32m      3\u001b[0m \u001b[1;33m\u001b[0m\u001b[0m\n\u001b[1;32m----> 4\u001b[1;33m \u001b[0mos\u001b[0m\u001b[1;33m.\u001b[0m\u001b[0mmkdir\u001b[0m\u001b[1;33m(\u001b[0m\u001b[0mpath\u001b[0m\u001b[1;33m)\u001b[0m\u001b[1;33m\u001b[0m\u001b[1;33m\u001b[0m\u001b[0m\n\u001b[0m\u001b[0;32m      5\u001b[0m \u001b[0mpath\u001b[0m\u001b[1;33m\u001b[0m\u001b[1;33m\u001b[0m\u001b[0m\n",
      "\u001b[1;31mFileExistsError\u001b[0m: [WinError 183] Cannot create a file when that file already exists: 'H:\\\\My Drive\\\\Learning\\\\Scrapping\\\\hapebeasts'"
     ]
    }
   ],
   "source": [
    "path = os.getcwd()\n",
    "path = os.path.join(path, keyword[1:] + 's_IG_images')\n",
    "\n",
    "os.mkdir(path)\n",
    "path"
   ]
  },
  {
   "cell_type": "code",
   "execution_count": 46,
   "id": "major-culture",
   "metadata": {},
   "outputs": [
    {
     "name": "stdout",
     "output_type": "stream",
     "text": [
      "100% [................................................................................] 6617 / 6617"
     ]
    }
   ],
   "source": [
    "counter = 0\n",
    "for image in images:\n",
    "    save_as = os.path.join(path, keyword[1:] + str(counter) + '.jpg')\n",
    "    wget.download(image, save_as)\n",
    "    counter+=1"
   ]
  },
  {
   "cell_type": "code",
   "execution_count": null,
   "id": "representative-remainder",
   "metadata": {},
   "outputs": [],
   "source": []
  }
 ],
 "metadata": {
  "kernelspec": {
   "display_name": "Python 3 (ipykernel)",
   "language": "python",
   "name": "python3"
  },
  "language_info": {
   "codemirror_mode": {
    "name": "ipython",
    "version": 3
   },
   "file_extension": ".py",
   "mimetype": "text/x-python",
   "name": "python",
   "nbconvert_exporter": "python",
   "pygments_lexer": "ipython3",
   "version": "3.9.7"
  }
 },
 "nbformat": 4,
 "nbformat_minor": 5
}
